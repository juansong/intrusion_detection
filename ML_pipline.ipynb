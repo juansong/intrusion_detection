{
 "cells": [
  {
   "cell_type": "markdown",
   "id": "91b90b0a",
   "metadata": {},
   "source": [
    "### Load Data"
   ]
  },
  {
   "cell_type": "code",
   "execution_count": 1,
   "id": "d754ec01",
   "metadata": {
    "scrolled": false
   },
   "outputs": [],
   "source": [
    "import numpy as np\n",
    "import pandas as pd\n",
    "import sklearn, imblearn\n",
    "import time, os, warnings\n",
    "warnings.filterwarnings('ignore')"
   ]
  },
  {
   "cell_type": "code",
   "execution_count": 2,
   "id": "c49fc26c",
   "metadata": {},
   "outputs": [
    {
     "data": {
      "text/plain": [
       "['Friday-WorkingHours-Afternoon-DDos.pcap_ISCX.csv',\n",
       " 'Friday-WorkingHours-Afternoon-PortScan.pcap_ISCX.csv',\n",
       " 'Friday-WorkingHours-Morning.pcap_ISCX.csv',\n",
       " 'Thursday-WorkingHours-Afternoon-Infilteration.pcap_ISCX.csv',\n",
       " 'Thursday-WorkingHours-Morning-WebAttacks.pcap_ISCX.csv']"
      ]
     },
     "metadata": {},
     "output_type": "display_data"
    }
   ],
   "source": [
    "# read files from list directory\n",
    "files = os.listdir('MachineLearningCVE')\n",
    "files.remove('Monday-WorkingHours.pcap_ISCX.csv')\n",
    "files.remove('Tuesday-WorkingHours.pcap_ISCX.csv')\n",
    "files.remove('Wednesday-workingHours.pcap_ISCX.csv')\n",
    "display(files)\n",
    "# set option to display all rows & columns\n",
    "pd.set_option('display.max_columns', None)\n",
    "pd.set_option('display.max_rows', None)\n",
    "nRowsRead = None\n",
    "# selected features from feature selection\n",
    "cols = [' Bwd Packet Length Std',' PSH Flag Count',' min_seg_size_forward',' Min Packet Length',\n",
    "        ' ACK Flag Count',' Bwd Packet Length Min',' Fwd IAT Std','Init_Win_bytes_forward',\n",
    "        ' Flow IAT Max',' Bwd Packets/s',' URG Flag Count','Bwd IAT Total',' Label']\n",
    "df_raw = pd.DataFrame()\n",
    "\n",
    "for file in files:\n",
    "    tmp_df = pd.read_csv(os.path.join('MachineLearningCVE/', file))\n",
    "    df_raw = pd.concat([df_raw,tmp_df])\n",
    "    df_raw = df_raw[cols]\n",
    "    del tmp_df"
   ]
  },
  {
   "cell_type": "code",
   "execution_count": 3,
   "id": "f160820a",
   "metadata": {
    "scrolled": false
   },
   "outputs": [],
   "source": [
    "# change data type for efficient computational cost\n",
    "data = df_raw.copy()\n",
    "\n",
    "for column in data.columns:\n",
    "    if data[column].dtype == np.int64:\n",
    "        maxVal = data[column].max()\n",
    "        if maxVal < 120:\n",
    "            data[column] = data[column].astype(np.int8)\n",
    "        elif maxVal < 32767:\n",
    "            data[column] = data[column].astype(np.int16)\n",
    "        else:\n",
    "            data[column] = data[column].astype(np.int32)\n",
    "            \n",
    "    if data[column].dtype == np.float64:\n",
    "        maxVal = data[column].max()\n",
    "        minVal = data[data[column]>0][column]\n",
    "        if maxVal < 120 and minVal>0.01 :\n",
    "            data[column] = data[column].astype(np.float16)\n",
    "        else:\n",
    "            data[column] = data[column].astype(np.float32)\n",
    "\n",
    "attackType = data[' Label'].unique()\n",
    "data[' Label'] = data[' Label'].astype('category')\n",
    "data[' Label'] = data[' Label'].astype(\"category\").cat.codes # encode target variables\n",
    "attackType2 = data[' Label'].unique()"
   ]
  },
  {
   "cell_type": "code",
   "execution_count": 4,
   "id": "e44139f0",
   "metadata": {},
   "outputs": [
    {
     "data": {
      "text/html": [
       "<div>\n",
       "<style scoped>\n",
       "    .dataframe tbody tr th:only-of-type {\n",
       "        vertical-align: middle;\n",
       "    }\n",
       "\n",
       "    .dataframe tbody tr th {\n",
       "        vertical-align: top;\n",
       "    }\n",
       "\n",
       "    .dataframe thead th {\n",
       "        text-align: right;\n",
       "    }\n",
       "</style>\n",
       "<table border=\"1\" class=\"dataframe\">\n",
       "  <thead>\n",
       "    <tr style=\"text-align: right;\">\n",
       "      <th></th>\n",
       "      <th>decoded</th>\n",
       "      <th>encoded</th>\n",
       "    </tr>\n",
       "  </thead>\n",
       "  <tbody>\n",
       "    <tr>\n",
       "      <th>0</th>\n",
       "      <td>BENIGN</td>\n",
       "      <td>0</td>\n",
       "    </tr>\n",
       "    <tr>\n",
       "      <th>1</th>\n",
       "      <td>DDoS</td>\n",
       "      <td>2</td>\n",
       "    </tr>\n",
       "    <tr>\n",
       "      <th>2</th>\n",
       "      <td>PortScan</td>\n",
       "      <td>4</td>\n",
       "    </tr>\n",
       "    <tr>\n",
       "      <th>3</th>\n",
       "      <td>Bot</td>\n",
       "      <td>1</td>\n",
       "    </tr>\n",
       "    <tr>\n",
       "      <th>4</th>\n",
       "      <td>Infiltration</td>\n",
       "      <td>3</td>\n",
       "    </tr>\n",
       "    <tr>\n",
       "      <th>5</th>\n",
       "      <td>Web Attack � Brute Force</td>\n",
       "      <td>5</td>\n",
       "    </tr>\n",
       "    <tr>\n",
       "      <th>6</th>\n",
       "      <td>Web Attack � XSS</td>\n",
       "      <td>7</td>\n",
       "    </tr>\n",
       "    <tr>\n",
       "      <th>7</th>\n",
       "      <td>Web Attack � Sql Injection</td>\n",
       "      <td>6</td>\n",
       "    </tr>\n",
       "  </tbody>\n",
       "</table>\n",
       "</div>"
      ],
      "text/plain": [
       "                      decoded  encoded\n",
       "0                      BENIGN        0\n",
       "1                        DDoS        2\n",
       "2                    PortScan        4\n",
       "3                         Bot        1\n",
       "4                Infiltration        3\n",
       "5    Web Attack � Brute Force        5\n",
       "6            Web Attack � XSS        7\n",
       "7  Web Attack � Sql Injection        6"
      ]
     },
     "execution_count": 4,
     "metadata": {},
     "output_type": "execute_result"
    }
   ],
   "source": [
    "attack_df = pd.DataFrame()\n",
    "attack_df['decoded'] = attackType\n",
    "attack_df['encoded'] = attackType2\n",
    "attack_df"
   ]
  },
  {
   "cell_type": "code",
   "execution_count": 5,
   "id": "8b3c2aa1",
   "metadata": {
    "scrolled": false
   },
   "outputs": [],
   "source": [
    "# define x and y\n",
    "y = data[' Label'].copy()\n",
    "X = data.drop([' Label'],axis=1)"
   ]
  },
  {
   "cell_type": "markdown",
   "id": "b0546d8a",
   "metadata": {},
   "source": [
    "### Handle imbalanced data"
   ]
  },
  {
   "cell_type": "code",
   "execution_count": 6,
   "id": "0f1153f9",
   "metadata": {
    "scrolled": false
   },
   "outputs": [],
   "source": [
    "from imblearn.under_sampling import RandomUnderSampler\n",
    "from imblearn.over_sampling import SMOTE\n",
    "# undersample major attacks & oversample minor attacks\n",
    "und1 = RandomUnderSampler('majority')\n",
    "X_und1, y_und1 = und1.fit_resample(X, y)"
   ]
  },
  {
   "cell_type": "code",
   "execution_count": 7,
   "id": "4ce85163",
   "metadata": {
    "scrolled": false
   },
   "outputs": [
    {
     "data": {
      "text/plain": [
       "4    158930\n",
       "2    128027\n",
       "1      1966\n",
       "5      1507\n",
       "7       652\n",
       "3        36\n",
       "0        21\n",
       "6        21\n",
       "Name:  Label, dtype: int64"
      ]
     },
     "execution_count": 7,
     "metadata": {},
     "output_type": "execute_result"
    }
   ],
   "source": [
    "y_und1.value_counts()"
   ]
  },
  {
   "cell_type": "code",
   "execution_count": 8,
   "id": "1bae13c0",
   "metadata": {
    "scrolled": false
   },
   "outputs": [
    {
     "data": {
      "text/plain": [
       "1    1966\n",
       "5    1507\n",
       "7     652\n",
       "3      36\n",
       "0      21\n",
       "6      21\n",
       "Name:  Label, dtype: int64"
      ]
     },
     "execution_count": 8,
     "metadata": {},
     "output_type": "execute_result"
    }
   ],
   "source": [
    "# set 4 and 2 as major\n",
    "# set other attacks as minor\n",
    "df = X_und1\n",
    "df[' Label'] = y_und1\n",
    "minor = pd.DataFrame(df[(df[' Label']!=4) & (df[' Label']!=2)])\n",
    "major = pd.DataFrame(df[(df[' Label']==4) | (df[' Label']==2)])\n",
    "minor[' Label'].value_counts()"
   ]
  },
  {
   "cell_type": "code",
   "execution_count": 9,
   "id": "a602aaf6",
   "metadata": {
    "scrolled": false
   },
   "outputs": [],
   "source": [
    "y_und2 =  minor[' Label']\n",
    "X_und2 =  minor.drop([' Label'],axis=1)\n",
    "strategy = {1:2000, 5:1600, 7:800, 3:300, 6:200, 0:200}\n",
    "sm = SMOTE(sampling_strategy=strategy)\n",
    "X_sm, y_sm = sm.fit_resample(X_und2, y_und2)\n",
    "X_minor,y_minor = X_sm, y_sm "
   ]
  },
  {
   "cell_type": "code",
   "execution_count": 10,
   "id": "c4e02c39",
   "metadata": {
    "scrolled": false
   },
   "outputs": [
    {
     "data": {
      "text/plain": [
       "4    158930\n",
       "2    128027\n",
       "Name:  Label, dtype: int64"
      ]
     },
     "execution_count": 10,
     "metadata": {},
     "output_type": "execute_result"
    }
   ],
   "source": [
    "major[' Label'].value_counts()"
   ]
  },
  {
   "cell_type": "code",
   "execution_count": 11,
   "id": "654f1ee2",
   "metadata": {
    "scrolled": false
   },
   "outputs": [
    {
     "data": {
      "text/plain": [
       "4    10000\n",
       "2     6000\n",
       "Name:  Label, dtype: int64"
      ]
     },
     "execution_count": 11,
     "metadata": {},
     "output_type": "execute_result"
    }
   ],
   "source": [
    "y_und2 =  major[' Label']\n",
    "X_und2 =  major.drop([' Label'],axis=1)\n",
    "strategy = {4:10000, 2:6000}\n",
    "und3 = RandomUnderSampler(sampling_strategy=strategy)\n",
    "X_und3, y_und3 = und3.fit_resample(X_und2, y_und2)\n",
    "y_und3.value_counts()"
   ]
  },
  {
   "cell_type": "code",
   "execution_count": 12,
   "id": "c2b74418",
   "metadata": {
    "scrolled": false
   },
   "outputs": [
    {
     "name": "stdout",
     "output_type": "stream",
     "text": [
      "<class 'pandas.core.frame.DataFrame'>\n",
      "Int64Index: 21100 entries, 0 to 5099\n",
      "Data columns (total 12 columns):\n",
      " #   Column                  Non-Null Count  Dtype  \n",
      "---  ------                  --------------  -----  \n",
      " 0    Bwd Packet Length Std  21100 non-null  float32\n",
      " 1    PSH Flag Count         21100 non-null  int8   \n",
      " 2    min_seg_size_forward   21100 non-null  int8   \n",
      " 3    Min Packet Length      21100 non-null  int16  \n",
      " 4    ACK Flag Count         21100 non-null  int8   \n",
      " 5    Bwd Packet Length Min  21100 non-null  int16  \n",
      " 6    Fwd IAT Std            21100 non-null  float32\n",
      " 7   Init_Win_bytes_forward  21100 non-null  int32  \n",
      " 8    Flow IAT Max           21100 non-null  int32  \n",
      " 9    Bwd Packets/s          21100 non-null  float32\n",
      " 10   URG Flag Count         21100 non-null  int8   \n",
      " 11  Bwd IAT Total           21100 non-null  int32  \n",
      "dtypes: float32(3), int16(2), int32(3), int8(4)\n",
      "memory usage: 824.2 KB\n"
     ]
    }
   ],
   "source": [
    "X_major,y_major = X_und3, y_und3\n",
    "X,y = pd.concat([X_major,X_minor]), pd.concat([y_major,y_minor])\n",
    "X.info()"
   ]
  },
  {
   "cell_type": "markdown",
   "id": "cb7449fb",
   "metadata": {},
   "source": [
    "### ML Models"
   ]
  },
  {
   "cell_type": "code",
   "execution_count": 13,
   "id": "106e2c6d",
   "metadata": {
    "scrolled": false
   },
   "outputs": [
    {
     "name": "stdout",
     "output_type": "stream",
     "text": [
      "Support Vector Classifier trained\n",
      "> Elapsed time:  0.34607744216918945\n",
      "Decision Tree Classifier trained\n",
      "> Elapsed time:  0.008002281188964844\n",
      "Random Forest Classifier trained\n",
      "> Elapsed time:  0.5631263256072998\n",
      "Gradient Boosting Classifier trained\n",
      "> Elapsed time:  10.085254669189453\n",
      "XGBoost Classifier trained\n",
      "> Elapsed time:  1.4473233222961426\n"
     ]
    }
   ],
   "source": [
    "from sklearn.preprocessing import StandardScaler\n",
    "from sklearn.model_selection import train_test_split, cross_val_score\n",
    "from sklearn import tree\n",
    "from sklearn.svm import SVC\n",
    "from xgboost import XGBClassifier\n",
    "from sklearn.tree import DecisionTreeClassifier\n",
    "from sklearn.ensemble import RandomForestClassifier, GradientBoostingClassifier\n",
    "\n",
    "scaler = StandardScaler()\n",
    "# extract numerical attributes\n",
    "cols = X.select_dtypes(include=['float32','float16','int32','int16','int8']).columns\n",
    "# scale to have zero mean & unit variance  \n",
    "train_X = scaler.fit_transform(X.select_dtypes(include=['float32','float16','int32','int16','int8']))\n",
    "X_train,X_test,Y_train,Y_test = train_test_split(train_X,y,train_size=0.70, random_state=2)\n",
    "\n",
    "# Train SVM Model\n",
    "start_svm = time.time()\n",
    "svm = SVC()\n",
    "svm.fit(X_train, Y_train)\n",
    "print ('Support Vector Classifier trained')\n",
    "print('> Elapsed time: ',time.time()-start_svm)\n",
    "\n",
    "# Train Decision Tree Model\n",
    "start_dt = time.time()\n",
    "dt = tree.DecisionTreeClassifier(criterion='gini', max_depth=33, random_state=20, max_features=12, splitter='random')\n",
    "dt.fit(X_train, Y_train)\n",
    "print ('Decision Tree Classifier trained')\n",
    "print('> Elapsed time: ',time.time()-start_dt)\n",
    "\n",
    "# Train Random Forest Model\n",
    "start_rf = time.time()\n",
    "rf = RandomForestClassifier(max_depth=40)\n",
    "rf.fit(X_train, Y_train)\n",
    "print ('Random Forest Classifier trained')\n",
    "print('> Elapsed time: ',time.time()-start_rf)\n",
    "\n",
    "# Train Gradient Boosting Model\n",
    "start_gb = time.time()\n",
    "gb = GradientBoostingClassifier()\n",
    "gb.fit(X_train, Y_train)\n",
    "print ('Gradient Boosting Classifier trained')\n",
    "print('> Elapsed time: ',time.time()-start_gb)\n",
    "\n",
    "# Train XGBoost Model\n",
    "start_xgb = time.time()\n",
    "xgb = XGBClassifier(eval_metric='mlogloss')\n",
    "xgb.fit(X_train,Y_train)\n",
    "print ('XGBoost Classifier trained')\n",
    "print('> Elapsed time: ',time.time()-start_xgb)"
   ]
  },
  {
   "cell_type": "code",
   "execution_count": 14,
   "id": "7b1cd498",
   "metadata": {
    "scrolled": false
   },
   "outputs": [
    {
     "name": "stdout",
     "output_type": "stream",
     "text": [
      "\n",
      "========================== Support Vector Classifier Model Evaluation ==========================\n",
      "\n",
      "Cross Validation Mean Score:  0.9532807015612471\n",
      "\n",
      "Model Accuracy:  0.9549732547904395\n",
      "\n",
      "Confusion matrix:\n",
      " [[ 129    1    0    6    1    1    1    1]\n",
      " [   0 1350    6    0    0    1    0    2]\n",
      " [   0    1 4231    0    0    0    0    0]\n",
      " [   1    1   18  177    0    0    0    0]\n",
      " [   3    0    0    0 7024    0    6    1]\n",
      " [   0    0    0    0    0 1103    2    0]\n",
      " [   2    0    0    0    0   78   62    0]\n",
      " [   0    0    0    0    0  527    5   28]]\n",
      "\n",
      "Classification report:\n",
      "               precision    recall  f1-score   support\n",
      "\n",
      "           0       0.96      0.92      0.94       140\n",
      "           1       1.00      0.99      1.00      1359\n",
      "           2       0.99      1.00      1.00      4232\n",
      "           3       0.97      0.90      0.93       197\n",
      "           4       1.00      1.00      1.00      7034\n",
      "           5       0.65      1.00      0.78      1105\n",
      "           6       0.82      0.44      0.57       142\n",
      "           7       0.88      0.05      0.09       560\n",
      "\n",
      "    accuracy                           0.95     14769\n",
      "   macro avg       0.91      0.79      0.79     14769\n",
      "weighted avg       0.96      0.95      0.94     14769\n",
      "\n",
      "\n",
      "\n",
      "========================== Decision Tree Classifier Model Evaluation ==========================\n",
      "\n",
      "Cross Validation Mean Score:  0.9580884309181614\n",
      "\n",
      "Model Accuracy:  0.9997968718261223\n",
      "\n",
      "Confusion matrix:\n",
      " [[ 140    0    0    0    0    0    0    0]\n",
      " [   0 1359    0    0    0    0    0    0]\n",
      " [   0    0 4232    0    0    0    0    0]\n",
      " [   0    0    0  197    0    0    0    0]\n",
      " [   0    0    0    0 7034    0    0    0]\n",
      " [   0    0    0    0    0 1103    0    2]\n",
      " [   0    0    0    0    0    1  141    0]\n",
      " [   0    0    0    0    0    0    0  560]]\n",
      "\n",
      "Classification report:\n",
      "               precision    recall  f1-score   support\n",
      "\n",
      "           0       1.00      1.00      1.00       140\n",
      "           1       1.00      1.00      1.00      1359\n",
      "           2       1.00      1.00      1.00      4232\n",
      "           3       1.00      1.00      1.00       197\n",
      "           4       1.00      1.00      1.00      7034\n",
      "           5       1.00      1.00      1.00      1105\n",
      "           6       1.00      0.99      1.00       142\n",
      "           7       1.00      1.00      1.00       560\n",
      "\n",
      "    accuracy                           1.00     14769\n",
      "   macro avg       1.00      1.00      1.00     14769\n",
      "weighted avg       1.00      1.00      1.00     14769\n",
      "\n",
      "\n",
      "\n",
      "========================== Random Forest Classifier Model Evaluation ==========================\n",
      "\n",
      "Cross Validation Mean Score:  0.9607291018746341\n",
      "\n",
      "Model Accuracy:  0.989708172523529\n",
      "\n",
      "Confusion matrix:\n",
      " [[ 140    0    0    0    0    0    0    0]\n",
      " [   0 1359    0    0    0    0    0    0]\n",
      " [   0    0 4232    0    0    0    0    0]\n",
      " [   0    0    0  197    0    0    0    0]\n",
      " [   0    0    0    0 7034    0    0    0]\n",
      " [   0    0    0    0    0 1104    0    1]\n",
      " [   0    0    0    0    0    1  141    0]\n",
      " [   0    0    0    0    0  150    0  410]]\n",
      "\n",
      "Classification report:\n",
      "               precision    recall  f1-score   support\n",
      "\n",
      "           0       1.00      1.00      1.00       140\n",
      "           1       1.00      1.00      1.00      1359\n",
      "           2       1.00      1.00      1.00      4232\n",
      "           3       1.00      1.00      1.00       197\n",
      "           4       1.00      1.00      1.00      7034\n",
      "           5       0.88      1.00      0.94      1105\n",
      "           6       1.00      0.99      1.00       142\n",
      "           7       1.00      0.73      0.84       560\n",
      "\n",
      "    accuracy                           0.99     14769\n",
      "   macro avg       0.98      0.97      0.97     14769\n",
      "weighted avg       0.99      0.99      0.99     14769\n",
      "\n",
      "\n",
      "\n",
      "========================== Gradient Boosting Classifier Model Evaluation ==========================\n",
      "\n",
      "Cross Validation Mean Score:  0.9608644656182512\n",
      "\n",
      "Model Accuracy:  0.9787392511341323\n",
      "\n",
      "Confusion matrix:\n",
      " [[ 140    0    0    0    0    0    0    0]\n",
      " [   0 1359    0    0    0    0    0    0]\n",
      " [   0    0 4232    0    0    0    0    0]\n",
      " [   0    0    0  197    0    0    0    0]\n",
      " [   0    0    0    0 7034    0    0    0]\n",
      " [   0    0    0    0    0 1032    1   72]\n",
      " [   0    0    0    0    0    1  141    0]\n",
      " [   0    0    0    0    0  240    0  320]]\n",
      "\n",
      "Classification report:\n",
      "               precision    recall  f1-score   support\n",
      "\n",
      "           0       1.00      1.00      1.00       140\n",
      "           1       1.00      1.00      1.00      1359\n",
      "           2       1.00      1.00      1.00      4232\n",
      "           3       1.00      1.00      1.00       197\n",
      "           4       1.00      1.00      1.00      7034\n",
      "           5       0.81      0.93      0.87      1105\n",
      "           6       0.99      0.99      0.99       142\n",
      "           7       0.82      0.57      0.67       560\n",
      "\n",
      "    accuracy                           0.98     14769\n",
      "   macro avg       0.95      0.94      0.94     14769\n",
      "weighted avg       0.98      0.98      0.98     14769\n",
      "\n",
      "\n",
      "\n",
      "========================== XGBoost Classifier Model Evaluation ==========================\n",
      "\n",
      "Cross Validation Mean Score:  0.9605257122307174\n",
      "\n",
      "Model Accuracy:  0.9848330963504638\n",
      "\n",
      "Confusion matrix:\n",
      " [[ 140    0    0    0    0    0    0    0]\n",
      " [   0 1359    0    0    0    0    0    0]\n",
      " [   0    0 4232    0    0    0    0    0]\n",
      " [   0    0    0  197    0    0    0    0]\n",
      " [   0    0    0    0 7034    0    0    0]\n",
      " [   0    0    0    0    0 1024    1   80]\n",
      " [   0    0    0    0    0    0  142    0]\n",
      " [   0    0    0    0    0  143    0  417]]\n",
      "\n",
      "Classification report:\n",
      "               precision    recall  f1-score   support\n",
      "\n",
      "           0       1.00      1.00      1.00       140\n",
      "           1       1.00      1.00      1.00      1359\n",
      "           2       1.00      1.00      1.00      4232\n",
      "           3       1.00      1.00      1.00       197\n",
      "           4       1.00      1.00      1.00      7034\n",
      "           5       0.88      0.93      0.90      1105\n",
      "           6       0.99      1.00      1.00       142\n",
      "           7       0.84      0.74      0.79       560\n",
      "\n",
      "    accuracy                           0.98     14769\n",
      "   macro avg       0.96      0.96      0.96     14769\n",
      "weighted avg       0.98      0.98      0.98     14769\n",
      "\n",
      "\n"
     ]
    }
   ],
   "source": [
    "# model evaluation (train)\n",
    "from sklearn import metrics\n",
    "\n",
    "models = []\n",
    "models.append(('Support Vector Classifier',svm))\n",
    "models.append(('Decision Tree Classifier',dt))\n",
    "models.append(('Random Forest Classifier',rf))\n",
    "models.append(('Gradient Boosting Classifier',gb))\n",
    "models.append(('XGBoost Classifier',xgb))\n",
    "\n",
    "for i, v in models:\n",
    "    Xpred =  v.predict(X_train)\n",
    "    scores = cross_val_score(v, X_train, Y_train, cv=10) # k=10 fold cross validation\n",
    "    accuracy = metrics.accuracy_score(Y_train, Xpred)\n",
    "    confusion_matrix = metrics.confusion_matrix(Y_train, Xpred)\n",
    "    classification = metrics.classification_report(Y_train, Xpred)\n",
    "    print()\n",
    "    print('========================== {} Model Evaluation =========================='.format(i))\n",
    "    print()\n",
    "    print ('Cross Validation Mean Score: ',scores.mean())\n",
    "    print()\n",
    "    print ('Model Accuracy: ',accuracy)\n",
    "    print()\n",
    "    print('Confusion matrix:' '\\n',confusion_matrix)\n",
    "    print()\n",
    "    print('Classification report:' '\\n',classification) \n",
    "    print()"
   ]
  },
  {
   "cell_type": "code",
   "execution_count": 15,
   "id": "5e7d9e43",
   "metadata": {
    "scrolled": false
   },
   "outputs": [
    {
     "name": "stdout",
     "output_type": "stream",
     "text": [
      "\n",
      "============================== Support Vector Classifier Model Test Results ==============================\n",
      "\n",
      "Model Accuracy:  0.955141367872374\n",
      "\n",
      "Confusion matrix:\n",
      " [[  53    1    0    4    0    2    0    0]\n",
      " [   0  640    0    0    0    1    0    0]\n",
      " [   0    0 1768    0    0    0    0    0]\n",
      " [   3    1   11   88    0    0    0    0]\n",
      " [   3    0    0    0 2961    1    1    0]\n",
      " [   0    0    0    0    0  492    3    0]\n",
      " [   1    0    0    0    0   25   32    0]\n",
      " [   0    0    0    0    1  223    3   13]]\n",
      "\n",
      "Classification report:\n",
      "               precision    recall  f1-score   support\n",
      "\n",
      "           0       0.88      0.88      0.88        60\n",
      "           1       1.00      1.00      1.00       641\n",
      "           2       0.99      1.00      1.00      1768\n",
      "           3       0.96      0.85      0.90       103\n",
      "           4       1.00      1.00      1.00      2966\n",
      "           5       0.66      0.99      0.79       495\n",
      "           6       0.82      0.55      0.66        58\n",
      "           7       1.00      0.05      0.10       240\n",
      "\n",
      "    accuracy                           0.96      6331\n",
      "   macro avg       0.91      0.79      0.79      6331\n",
      "weighted avg       0.97      0.96      0.94      6331\n",
      "\n",
      "\n",
      "\n",
      "============================== Decision Tree Classifier Model Test Results ==============================\n",
      "\n",
      "Model Accuracy:  0.9570368030326962\n",
      "\n",
      "Confusion matrix:\n",
      " [[  57    0    0    0    0    0    1    2]\n",
      " [   0  641    0    0    0    0    0    0]\n",
      " [   0    1 1766    1    0    0    0    0]\n",
      " [   0    1    1  101    0    0    0    0]\n",
      " [   0    0    0    0 2965    1    0    0]\n",
      " [   0    0    0    0    0  367    1  127]\n",
      " [   0    0    0    0    0    1   57    0]\n",
      " [   1    0    0    0    1  130    3  105]]\n",
      "\n",
      "Classification report:\n",
      "               precision    recall  f1-score   support\n",
      "\n",
      "           0       0.98      0.95      0.97        60\n",
      "           1       1.00      1.00      1.00       641\n",
      "           2       1.00      1.00      1.00      1768\n",
      "           3       0.99      0.98      0.99       103\n",
      "           4       1.00      1.00      1.00      2966\n",
      "           5       0.74      0.74      0.74       495\n",
      "           6       0.92      0.98      0.95        58\n",
      "           7       0.45      0.44      0.44       240\n",
      "\n",
      "    accuracy                           0.96      6331\n",
      "   macro avg       0.88      0.89      0.89      6331\n",
      "weighted avg       0.96      0.96      0.96      6331\n",
      "\n",
      "\n",
      "\n",
      "============================== Random Forest Classifier Model Test Results ==============================\n",
      "\n",
      "Model Accuracy:  0.9619333438635287\n",
      "\n",
      "Confusion matrix:\n",
      " [[  58    0    0    1    0    1    0    0]\n",
      " [   0  641    0    0    0    0    0    0]\n",
      " [   0    2 1765    1    0    0    0    0]\n",
      " [   0    1    1  101    0    0    0    0]\n",
      " [   0    0    0    0 2965    1    0    0]\n",
      " [   0    0    0    0    0  419    2   74]\n",
      " [   0    0    0    0    0    1   57    0]\n",
      " [   0    0    0    0    1  152    3   84]]\n",
      "\n",
      "Classification report:\n",
      "               precision    recall  f1-score   support\n",
      "\n",
      "           0       1.00      0.97      0.98        60\n",
      "           1       1.00      1.00      1.00       641\n",
      "           2       1.00      1.00      1.00      1768\n",
      "           3       0.98      0.98      0.98       103\n",
      "           4       1.00      1.00      1.00      2966\n",
      "           5       0.73      0.85      0.78       495\n",
      "           6       0.92      0.98      0.95        58\n",
      "           7       0.53      0.35      0.42       240\n",
      "\n",
      "    accuracy                           0.96      6331\n",
      "   macro avg       0.89      0.89      0.89      6331\n",
      "weighted avg       0.96      0.96      0.96      6331\n",
      "\n",
      "\n",
      "\n",
      "============================== Gradient Boosting Classifier Model Test Results ==============================\n",
      "\n",
      "Model Accuracy:  0.9606697204233139\n",
      "\n",
      "Confusion matrix:\n",
      " [[  52    1    0    4    0    3    0    0]\n",
      " [   0  640    1    0    0    0    0    0]\n",
      " [   0    1 1766    1    0    0    0    0]\n",
      " [   0    1    1  101    0    0    0    0]\n",
      " [   0    0    0    0 2965    1    0    0]\n",
      " [   0    0    0    0    0  432    0   63]\n",
      " [   0    0    0    0    0    2   55    1]\n",
      " [   0    0    0    0    1  166    2   71]]\n",
      "\n",
      "Classification report:\n",
      "               precision    recall  f1-score   support\n",
      "\n",
      "           0       1.00      0.87      0.93        60\n",
      "           1       1.00      1.00      1.00       641\n",
      "           2       1.00      1.00      1.00      1768\n",
      "           3       0.95      0.98      0.97       103\n",
      "           4       1.00      1.00      1.00      2966\n",
      "           5       0.72      0.87      0.79       495\n",
      "           6       0.96      0.95      0.96        58\n",
      "           7       0.53      0.30      0.38       240\n",
      "\n",
      "    accuracy                           0.96      6331\n",
      "   macro avg       0.89      0.87      0.88      6331\n",
      "weighted avg       0.96      0.96      0.96      6331\n",
      "\n",
      "\n",
      "\n",
      "============================== XGBoost Classifier Model Test Results ==============================\n",
      "\n",
      "Model Accuracy:  0.9627231085136629\n",
      "\n",
      "Confusion matrix:\n",
      " [[  58    0    0    2    0    0    0    0]\n",
      " [   0  641    0    0    0    0    0    0]\n",
      " [   0    2 1766    0    0    0    0    0]\n",
      " [   0    1    1  101    0    0    0    0]\n",
      " [   0    0    0    0 2965    1    0    0]\n",
      " [   0    0    0    0    0  404    0   91]\n",
      " [   0    0    0    0    0    1   56    1]\n",
      " [   0    0    0    0    0  135    1  104]]\n",
      "\n",
      "Classification report:\n",
      "               precision    recall  f1-score   support\n",
      "\n",
      "           0       1.00      0.97      0.98        60\n",
      "           1       1.00      1.00      1.00       641\n",
      "           2       1.00      1.00      1.00      1768\n",
      "           3       0.98      0.98      0.98       103\n",
      "           4       1.00      1.00      1.00      2966\n",
      "           5       0.75      0.82      0.78       495\n",
      "           6       0.98      0.97      0.97        58\n",
      "           7       0.53      0.43      0.48       240\n",
      "\n",
      "    accuracy                           0.96      6331\n",
      "   macro avg       0.90      0.90      0.90      6331\n",
      "weighted avg       0.96      0.96      0.96      6331\n",
      "\n",
      "\n"
     ]
    }
   ],
   "source": [
    "# model evaluation (test)\n",
    "for i, v in models:\n",
    "    pred = v.predict(X_test)\n",
    "    accuracy = metrics.accuracy_score(Y_test,pred)\n",
    "    confusion_matrix = metrics.confusion_matrix(Y_test, pred)\n",
    "    classification = metrics.classification_report(Y_test, pred)\n",
    "    print()\n",
    "    print('============================== {} Model Test Results =============================='.format(i))\n",
    "    print()\n",
    "    print ('Model Accuracy: ',accuracy)\n",
    "    print()\n",
    "    print('Confusion matrix:' '\\n',confusion_matrix)\n",
    "    print()\n",
    "    print('Classification report:' '\\n',classification) \n",
    "    print()    "
   ]
  },
  {
   "cell_type": "markdown",
   "id": "6e5eca14",
   "metadata": {},
   "source": [
    "## Ensemble (Voting) Model"
   ]
  },
  {
   "cell_type": "code",
   "execution_count": 16,
   "id": "b10d15be",
   "metadata": {
    "scrolled": false
   },
   "outputs": [
    {
     "data": {
      "text/plain": [
       "VotingClassifier(estimators=[('svm', SVC()),\n",
       "                             ('dt',\n",
       "                              DecisionTreeClassifier(max_depth=33,\n",
       "                                                     max_features=12,\n",
       "                                                     random_state=20,\n",
       "                                                     splitter='random')),\n",
       "                             ('rf',\n",
       "                              RandomForestClassifier(max_depth=40,\n",
       "                                                     random_state=20)),\n",
       "                             ('gb', GradientBoostingClassifier()),\n",
       "                             ('xgb',\n",
       "                              XGBClassifier(base_score=None, booster=None,\n",
       "                                            colsample_bylevel=None,\n",
       "                                            colsample_bynode=None,\n",
       "                                            colsample_bytree=None,...\n",
       "                                            interaction_constraints=None,\n",
       "                                            learning_rate=None,\n",
       "                                            max_delta_step=None, max_depth=None,\n",
       "                                            min_child_weight=None, missing=nan,\n",
       "                                            monotone_constraints=None,\n",
       "                                            n_estimators=100, n_jobs=None,\n",
       "                                            num_parallel_tree=None,\n",
       "                                            random_state=None, reg_alpha=None,\n",
       "                                            reg_lambda=None,\n",
       "                                            scale_pos_weight=None,\n",
       "                                            subsample=None, tree_method=None,\n",
       "                                            validate_parameters=None,\n",
       "                                            verbosity=None))],\n",
       "                 weights=[1, 2, 2, 1, 1])"
      ]
     },
     "execution_count": 16,
     "metadata": {},
     "output_type": "execute_result"
    }
   ],
   "source": [
    "from sklearn.ensemble import VotingClassifier\n",
    "# hard vote 5 classifiers\n",
    "clf1 = SVC()\n",
    "clf2 = DecisionTreeClassifier(criterion='gini', max_depth=33, random_state=20, max_features=12, splitter='random')\n",
    "clf3 = RandomForestClassifier(criterion='gini', max_depth=40, random_state=20)\n",
    "clf4 = GradientBoostingClassifier()\n",
    "clf5 = XGBClassifier(eval_metric='mlogloss')\n",
    "\n",
    "vt = VotingClassifier(estimators=[('svm',clf1), ('dt', clf2),('rf',clf3),\n",
    "                                       ('gb',clf4),('xgb',clf5)],voting='hard',\n",
    "                           weights=[1,2,2,1,1],flatten_transform=True)\n",
    "vt.fit(X_train,Y_train)"
   ]
  },
  {
   "cell_type": "code",
   "execution_count": 17,
   "id": "a00d1063",
   "metadata": {
    "scrolled": false
   },
   "outputs": [
    {
     "name": "stdout",
     "output_type": "stream",
     "text": [
      "\n",
      "============================== Voting Classifier Model Test Results ==============================\n",
      "\n",
      "Model Accuracy: \n",
      " 0.9622492497235824\n",
      "\n",
      "Confusion matrix:\n",
      " [[  57    0    0    1    0    2    0    0]\n",
      " [   0  641    0    0    0    0    0    0]\n",
      " [   0    1 1767    0    0    0    0    0]\n",
      " [   0    1    0  102    0    0    0    0]\n",
      " [   0    0    0    0 2965    1    0    0]\n",
      " [   0    0    0    0    0  416    2   77]\n",
      " [   0    0    0    0    0    1   57    0]\n",
      " [   0    0    0    0    1  149    3   87]]\n",
      "\n",
      "Classification report:\n",
      "               precision    recall  f1-score   support\n",
      "\n",
      "           0       1.00      0.95      0.97        60\n",
      "           1       1.00      1.00      1.00       641\n",
      "           2       1.00      1.00      1.00      1768\n",
      "           3       0.99      0.99      0.99       103\n",
      "           4       1.00      1.00      1.00      2966\n",
      "           5       0.73      0.84      0.78       495\n",
      "           6       0.92      0.98      0.95        58\n",
      "           7       0.53      0.36      0.43       240\n",
      "\n",
      "    accuracy                           0.96      6331\n",
      "   macro avg       0.90      0.89      0.89      6331\n",
      "weighted avg       0.96      0.96      0.96      6331\n",
      "\n",
      "\n"
     ]
    }
   ],
   "source": [
    "pred = vt.predict(X_test)\n",
    "accuracy = metrics.accuracy_score(Y_test,pred)\n",
    "confusion_matrix = metrics.confusion_matrix(Y_test,pred)\n",
    "classification = metrics.classification_report(Y_test,pred)\n",
    "print()\n",
    "print('============================== {} Model Test Results =============================='.format('Voting Classifier'))\n",
    "print()\n",
    "print ('Model Accuracy: ' '\\n',accuracy)\n",
    "print()\n",
    "print('Confusion matrix:' '\\n',confusion_matrix)\n",
    "print()\n",
    "print('Classification report:' '\\n',classification) \n",
    "print()    "
   ]
  },
  {
   "cell_type": "markdown",
   "id": "c25ba20f",
   "metadata": {},
   "source": [
    "### Save Voted Model"
   ]
  },
  {
   "cell_type": "code",
   "execution_count": 18,
   "id": "2c5dd477",
   "metadata": {
    "scrolled": false
   },
   "outputs": [],
   "source": [
    "import pickle\n",
    "pickle.dump(vt, open('voted_model.pkl','wb'))\n",
    "pickle.dump(svm, open('svm_model.pkl','wb'))\n",
    "pickle.dump(dt, open('dt_model.pkl','wb'))\n",
    "pickle.dump(rf, open('rf_model.pkl','wb'))\n",
    "pickle.dump(gb, open('gb_model.pkl','wb'))\n",
    "pickle.dump(xgb, open('xgb_model.pkl','wb'))"
   ]
  },
  {
   "cell_type": "code",
   "execution_count": 19,
   "id": "8492d7c1",
   "metadata": {
    "scrolled": false
   },
   "outputs": [],
   "source": [
    "#!jt -t monokai -f roboto -T -N\n",
    "#!jt -r"
   ]
  },
  {
   "cell_type": "code",
   "execution_count": null,
   "id": "e6d1f751",
   "metadata": {},
   "outputs": [],
   "source": []
  }
 ],
 "metadata": {
  "kernelspec": {
   "display_name": "Python 3",
   "language": "python",
   "name": "python3"
  },
  "language_info": {
   "codemirror_mode": {
    "name": "ipython",
    "version": 3
   },
   "file_extension": ".py",
   "mimetype": "text/x-python",
   "name": "python",
   "nbconvert_exporter": "python",
   "pygments_lexer": "ipython3",
   "version": "3.8.8"
  }
 },
 "nbformat": 4,
 "nbformat_minor": 5
}
